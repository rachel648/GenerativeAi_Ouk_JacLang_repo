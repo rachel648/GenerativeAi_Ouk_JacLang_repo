{
 "cells": [
  {
   "cell_type": "markdown",
   "metadata": {},
   "source": [
    "# GAN Training Tutorial\n",
    "\n",
    "This notebook demonstrates how to train a Generative Adversarial Network (GAN) using the generative AI training framework."
   ]
  },
  {
   "cell_type": "markdown",
   "metadata": {},
   "source": [
    "## 1. Setup and Imports"
   ]
  },
  {
   "cell_type": "code",
   "execution_count": null,
   "metadata": {},
   "outputs": [],
   "source": [
    "import torch\n",
    "import torch.nn as nn\n",
    "import matplotlib.pyplot as plt\n",
    "import numpy as np\n",
    "from torch.utils.data import DataLoader\n",
    "\n",
    "# Import our framework\n",
    "from generative_ai.models.gan import DCGAN\n",
    "from generative_ai.training.gan_trainer import GANTrainer\n",
    "from generative_ai.config.gan_config import GANConfig\n",
    "from generative_ai.data.datasets import SyntheticImageDataset\n",
    "from generative_ai.data.transforms import get_image_transforms\n",
    "from generative_ai.utils.helpers import set_seed\n",
    "from generative_ai.utils.visualization import plot_samples, plot_gan_losses\n",
    "\n",
    "# Set random seed for reproducibility\n",
    "set_seed(42)\n",
    "\n",
    "# Check if CUDA is available\n",
    "device = torch.device(\"cuda\" if torch.cuda.is_available() else \"cpu\")\n",
    "print(f\"Using device: {device}\")"
   ]
  },
  {
   "cell_type": "markdown",
   "metadata": {},
   "source": [
    "## 2. Configuration"
   ]
  },
  {
   "cell_type": "code",
   "execution_count": null,
   "metadata": {},
   "outputs": [],
   "source": [
    "# Create configuration\n",
    "config = GANConfig(\n",
    "    batch_size=32,\n",
    "    num_epochs=50,\n",
    "    latent_dim=100,\n",
    "    image_size=64,\n",
    "    channels=3,\n",
    "    generator_lr=0.0002,\n",
    "    discriminator_lr=0.0002,\n",
    "    device=str(device),\n",
    "    seed=42,\n",
    "    log_interval=50\n",
    ")\n",
    "\n",
    "print(\"Configuration:\")\n",
    "for key, value in config.to_dict().items():\n",
    "    print(f\"  {key}: {value}\")"
   ]
  },
  {
   "cell_type": "markdown",
   "metadata": {},
   "source": [
    "## 3. Create Dataset and DataLoader"
   ]
  },
  {
   "cell_type": "code",
   "execution_count": null,
   "metadata": {},
   "outputs": [],
   "source": [
    "# Create synthetic dataset for demonstration\n",
    "transform = get_image_transforms(config.image_size, normalize=True, augment=True)\n",
    "dataset = SyntheticImageDataset(\n",
    "    size=2000,\n",
    "    image_size=config.image_size,\n",
    "    channels=config.channels,\n",
    "    transform=transform\n",
    ")\n",
    "\n",
    "dataloader = DataLoader(\n",
    "    dataset,\n",
    "    batch_size=config.batch_size,\n",
    "    shuffle=True,\n",
    "    num_workers=2\n",
    ")\n",
    "\n",
    "print(f\"Dataset size: {len(dataset)}\")\n",
    "print(f\"Number of batches: {len(dataloader)}\")\n",
    "\n",
    "# Visualize some samples\n",
    "sample_batch = next(iter(dataloader))\n",
    "print(f\"Sample batch shape: {sample_batch.shape}\")"
   ]
  },
  {
   "cell_type": "markdown",
   "metadata": {},
   "source": [
    "## 4. Create Model"
   ]
  },
  {
   "cell_type": "code",
   "execution_count": null,
   "metadata": {},
   "outputs": [],
   "source": [
    "# Create DCGAN model\n",
    "model = DCGAN(\n",
    "    latent_dim=config.latent_dim,\n",
    "    image_size=config.image_size,\n",
    "    channels=config.channels,\n",
    "    g_features=config.generator_features,\n",
    "    d_features=config.discriminator_features\n",
    ")\n",
    "\n",
    "print(f\"Generator parameters: {sum(p.numel() for p in model.generator.parameters()):,}\")\n",
    "print(f\"Discriminator parameters: {sum(p.numel() for p in model.discriminator.parameters()):,}\")\n",
    "\n",
    "# Test generation\n",
    "with torch.no_grad():\n",
    "    test_noise = model.generate_noise(4, device)\n",
    "    test_samples = model.generator(test_noise)\n",
    "    print(f\"Generated sample shape: {test_samples.shape}\")"
   ]
  },
  {
   "cell_type": "markdown",
   "metadata": {},
   "source": [
    "## 5. Training"
   ]
  },
  {
   "cell_type": "code",
   "execution_count": null,
   "metadata": {},
   "outputs": [],
   "source": [
    "# Create trainer\n",
    "trainer = GANTrainer(config, model, device)\n",
    "\n",
    "print(\"Starting training...\")\n",
    "# Note: In a real scenario, you might want to reduce num_epochs for notebook execution\n",
    "config.num_epochs = 10  # Reduced for notebook demo\n",
    "trainer.train(dataloader)\n",
    "\n",
    "print(\"Training completed!\")"
   ]
  },
  {
   "cell_type": "markdown",
   "metadata": {},
   "source": [
    "## 6. Results Visualization"
   ]
  },
  {
   "cell_type": "code",
   "execution_count": null,
   "metadata": {},
   "outputs": [],
   "source": [
    "# Plot training losses\n",
    "plot_gan_losses(trainer.g_losses, trainer.d_losses)\n",
    "\n",
    "# Generate some samples\n",
    "model.eval()\n",
    "with torch.no_grad():\n",
    "    # Generate fake samples\n",
    "    noise = model.generate_noise(16, device)\n",
    "    fake_samples = model.generator(noise)\n",
    "    \n",
    "    # Get real samples\n",
    "    real_samples = next(iter(dataloader))[:16]\n",
    "    \n",
    "    # Plot comparison\n",
    "    plot_samples(real_samples, fake_samples, nrow=4)"
   ]
  },
  {
   "cell_type": "markdown",
   "metadata": {},
   "source": [
    "## 7. Model Evaluation"
   ]
  },
  {
   "cell_type": "code",
   "execution_count": null,
   "metadata": {},
   "outputs": [],
   "source": [
    "# Generate a large batch for evaluation\n",
    "model.eval()\n",
    "with torch.no_grad():\n",
    "    # Generate 100 samples\n",
    "    noise = model.generate_noise(100, device)\n",
    "    generated_samples = model.generator(noise)\n",
    "    \n",
    "    print(f\"Generated {generated_samples.shape[0]} samples\")\n",
    "    print(f\"Sample statistics:\")\n",
    "    print(f\"  Mean: {generated_samples.mean().item():.4f}\")\n",
    "    print(f\"  Std: {generated_samples.std().item():.4f}\")\n",
    "    print(f\"  Min: {generated_samples.min().item():.4f}\")\n",
    "    print(f\"  Max: {generated_samples.max().item():.4f}\")"
   ]
  },
  {
   "cell_type": "markdown",
   "metadata": {},
   "source": [
    "## 8. Save Model"
   ]
  },
  {
   "cell_type": "code",
   "execution_count": null,
   "metadata": {},
   "outputs": [],
   "source": [
    "# Save the trained model\n",
    "import os\n",
    "os.makedirs('saved_models', exist_ok=True)\n",
    "\n",
    "torch.save({\n",
    "    'generator_state_dict': model.generator.state_dict(),\n",
    "    'discriminator_state_dict': model.discriminator.state_dict(),\n",
    "    'config': config.to_dict(),\n",
    "    'g_losses': trainer.g_losses,\n",
    "    'd_losses': trainer.d_losses\n",
    "}, 'saved_models/dcgan_model.pth')\n",
    "\n",
    "print(\"Model saved to 'saved_models/dcgan_model.pth'\")"
   ]
  },
  {
   "cell_type": "markdown",
   "metadata": {},
   "source": [
    "## 9. Load and Test Saved Model"
   ]
  },
  {
   "cell_type": "code",
   "execution_count": null,
   "metadata": {},
   "outputs": [],
   "source": [
    "# Load the saved model\n",
    "checkpoint = torch.load('saved_models/dcgan_model.pth', map_location=device)\n",
    "\n",
    "# Create new model instance\n",
    "loaded_model = DCGAN(\n",
    "    latent_dim=config.latent_dim,\n",
    "    image_size=config.image_size,\n",
    "    channels=config.channels\n",
    ")\n",
    "\n",
    "# Load state dictionaries\n",
    "loaded_model.generator.load_state_dict(checkpoint['generator_state_dict'])\n",
    "loaded_model.discriminator.load_state_dict(checkpoint['discriminator_state_dict'])\n",
    "loaded_model.to(device)\n",
    "\n",
    "# Test generation with loaded model\n",
    "loaded_model.eval()\n",
    "with torch.no_grad():\n",
    "    test_samples = loaded_model.generate_samples(8, device)\n",
    "    print(f\"Generated samples from loaded model: {test_samples.shape}\")\n",
    "\n",
    "print(\"Model loaded and tested successfully!\")"
   ]
  }
 ],
 "metadata": {
  "kernelspec": {
   "display_name": "Python 3",
   "language": "python",
   "name": "python3"
  },
  "language_info": {
   "codemirror_mode": {
    "name": "ipython",
    "version": 3
   },
   "file_extension": ".py",
   "mimetype": "text/x-python",
   "name": "python",
   "nbconvert_exporter": "python",
   "pygments_lexer": "ipython3",
   "version": "3.8.0"
  }
 },
 "nbformat": 4,
 "nbformat_minor": 4
}